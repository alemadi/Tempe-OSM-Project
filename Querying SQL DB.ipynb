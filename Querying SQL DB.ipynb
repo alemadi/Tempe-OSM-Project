{
 "cells": [
  {
   "cell_type": "code",
   "execution_count": 33,
   "metadata": {},
   "outputs": [],
   "source": [
    "import sqlite3\n",
    "\n",
    "db = 'mydb_NEW.db'\n",
    "\n",
    "conn = sqlite3.connect(db)"
   ]
  },
  {
   "cell_type": "code",
   "execution_count": 35,
   "metadata": {
    "scrolled": true
   },
   "outputs": [
    {
     "name": "stdout",
     "output_type": "stream",
     "text": [
      "[(u'Dr Kludge', 120221), (u'TheDutchMan13', 43895), (u'\\u042e\\u043a\\u0430\\u0442\\u0430\\u043d', 30552), (u'lukas64', 23688), (u'jfuredy', 15633), (u'woodpeck_fixbot', 9543), (u'Adam Martin', 7948), (u'dwh1985', 7399), (u'adenium', 6793), (u'kookiemonster', 6727), (u'AJ Riley', 5017), (u'Bike Mapper', 4810), (u'horndude77', 4419), (u'pflier', 4390), (u'Rub21', 3416), (u'maponpoint33', 3048), (u'Sundance', 3002), (u'danielmoberly', 2729), (u'samely', 2382), (u'CorranHorn', 2237)]\n"
     ]
    }
   ],
   "source": [
    "# Top 20 most contributing users\n",
    "\n",
    "print conn.execute('''SELECT e.user, COUNT(*) as num \n",
    "FROM (SELECT user FROM nodes UNION ALL SELECT user FROM ways) e \n",
    "GROUP BY e.user \n",
    "ORDER BY num DESC LIMIT 20;''').fetchall()\n"
   ]
  },
  {
   "cell_type": "code",
   "execution_count": 28,
   "metadata": {},
   "outputs": [
    {
     "name": "stdout",
     "output_type": "stream",
     "text": [
      "[(u'yes', 119), (u'no', 15)]\n",
      "[(u'signal', 199)]\n"
     ]
    }
   ],
   "source": [
    "# foot access\n",
    "print conn.execute('''SELECT nodes_tags.value, COUNT(*) as num\n",
    "FROM nodes_tags \n",
    "    JOIN (SELECT DISTINCT(id) FROM nodes_tags WHERE value='yes') i\n",
    "    ON nodes_tags.id=i.id\n",
    "WHERE nodes_tags.key='foot'\n",
    "GROUP BY nodes_tags.value\n",
    "ORDER BY num DESC;''').fetchall()\n",
    "\n",
    "# no. of traffic signals\n",
    "print conn.execute('''SELECT nodes_tags.value, COUNT(*) as num\n",
    "FROM nodes_tags \n",
    "    JOIN (SELECT DISTINCT(id) FROM nodes_tags WHERE value='signal') i\n",
    "    ON nodes_tags.id=i.id\n",
    "WHERE nodes_tags.key='traffic_signals'\n",
    "GROUP BY nodes_tags.value\n",
    "ORDER BY num DESC;''').fetchall()\n",
    "\n"
   ]
  },
  {
   "cell_type": "code",
   "execution_count": 29,
   "metadata": {},
   "outputs": [
    {
     "name": "stdout",
     "output_type": "stream",
     "text": [
      "[(u'crossing', 3879), (u'turning_circle', 3744), (u'traffic_signals', 1293), (u'street_lamp', 945), (u'stop', 277), (u'bus_stop', 255), (u'motorway_junction', 141), (u'turning_loop', 69), (u'give_way', 9), (u'elevator', 8), (u'speed_camera', 1)]\n"
     ]
    }
   ],
   "source": [
    "# highway stats\n",
    "\n",
    "print conn.execute('''SELECT nodes_tags.value, COUNT(*) as num\n",
    "FROM nodes_tags \n",
    "    JOIN (SELECT DISTINCT(id) FROM nodes_tags) i\n",
    "    ON nodes_tags.id=i.id\n",
    "WHERE nodes_tags.key='highway'\n",
    "GROUP BY nodes_tags.value\n",
    "ORDER BY num DESC;''').fetchall()\n"
   ]
  },
  {
   "cell_type": "code",
   "execution_count": 32,
   "metadata": {},
   "outputs": [
    {
     "name": "stdout",
     "output_type": "stream",
     "text": [
      "[(u'restaurant', 183), (u'fast_food', 155), (u'fuel', 147), (u'place_of_worship', 108), (u'school', 82), (u'cafe', 37), (u'bank', 35), (u'pharmacy', 29), (u'bench', 28), (u'atm', 25), (u'trailer_park', 25), (u'drinking_water', 24), (u'toilets', 24), (u'bar', 22), (u'car_wash', 16), (u'waste_disposal', 16), (u'pub', 14), (u'vending_machine', 13), (u'fire_station', 12), (u'post_office', 12), (u'fountain', 11), (u'waste_basket', 11), (u'parking', 9), (u'bicycle_parking', 8), (u'post_box', 8), (u'swimming_pool', 7), (u'clinic', 6), (u'dentist', 6), (u'police', 6), (u'bicycle_repair_station', 5), (u'doctors', 5), (u'library', 5), (u'telephone', 5), (u'bbq', 4), (u'grave_yard', 4), (u'office', 4), (u'car_rental', 3), (u'charging_station', 3), (u'cinema', 3), (u'community_centre', 3), (u'courthouse', 3), (u'hospital', 3), (u'public_building', 3), (u'shelter', 3), (u'theatre', 3), (u'university', 3), (u'arts_centre', 2), (u'college', 2), (u'nightclub', 2), (u'parking_entrance', 2), (u'social_facility', 2), (u'veterinary', 2), (u'bicycle_rental', 1), (u'casino', 1), (u'coworking_space', 1), (u'dojo', 1), (u'gym', 1), (u'kindergarten', 1), (u'marketplace', 1), (u'prison', 1), (u'recycling', 1), (u'studio', 1)]\n"
     ]
    }
   ],
   "source": [
    "# Amenities Stats\n",
    "print conn.execute('''SELECT nodes_tags.value, COUNT(*) as num\n",
    "FROM nodes_tags \n",
    "    JOIN (SELECT DISTINCT(id) FROM nodes_tags) i\n",
    "    ON nodes_tags.id=i.id\n",
    "WHERE nodes_tags.key='amenity'\n",
    "GROUP BY nodes_tags.value\n",
    "ORDER BY num DESC;''').fetchall()\n",
    "\n",
    "#Would be intersting I can figure out the distances between police/fire stations\n"
   ]
  },
  {
   "cell_type": "code",
   "execution_count": 30,
   "metadata": {},
   "outputs": [
    {
     "name": "stdout",
     "output_type": "stream",
     "text": [
      "[(u'Circle K', 11), (u'Chevron', 8), (u'Shell', 8), (u\"Fry's Fuel\", 5), (u'Arco', 3), (u'QuikTrip', 2), (u'7 Eleven', 1), (u'7-Eleven', 1), (u'ARCO', 1), (u'CNG Gas', 1), (u'Circkle K', 1), (u'Circle k', 1), (u'CostCo Fuel', 1), (u'Costco Gas Station', 1), (u'Diamond Shamrock', 1), (u'Fastgas', 1), (u'Pride', 1), (u'QT', 1), (u'Quick Trip', 1), (u'QuickTrip', 1), (u'Safeway', 1), (u'Sinclair', 1), (u'SpeedMart', 1), (u'Valero', 1)]\n"
     ]
    }
   ],
   "source": [
    "# Types of gas stations\n",
    "print conn.execute('''SELECT nodes_tags.value, COUNT(*) as num\n",
    "FROM nodes_tags \n",
    "    JOIN (SELECT DISTINCT(id) FROM nodes_tags where value ='fuel') i\n",
    "    ON nodes_tags.id=i.id\n",
    "WHERE nodes_tags.key='name'\n",
    "GROUP BY nodes_tags.value\n",
    "ORDER BY num DESC;''').fetchall()\n"
   ]
  },
  {
   "cell_type": "code",
   "execution_count": 10,
   "metadata": {},
   "outputs": [
    {
     "name": "stdout",
     "output_type": "stream",
     "text": [
      "[(u'Subway', 18), (u\"McDonald's\", 9), (u'Burger King', 8), (u'Jack in the Box', 6), (u'Taco Bell', 6), (u\"Wendy's\", 6), (u'Little Caesars', 5), (u'Panda Express', 4), (u'Sonic', 4), (u\"Arby's\", 3), (u\"Barro's Pizza\", 3), (u\"Dunkin' Donuts\", 3), (u\"Jimmy John's\", 3), (u'Chipotle', 2), (u'Pizza Hut', 2), (u'Popeyes', 2), (u'Arizona Donut Company', 1), (u'Boba Deli', 1), (u'Bosa Donuts', 1), (u'Burger Rush', 1), (u'Burrito Express', 1), (u\"Cane's\", 1), (u\"Carl's Jr.\", 1), (u\"Carl's Junior\", 1), (u'Chick-fil-A', 1), (u\"Church's Chicken\", 1), (u'Del Taco', 1), (u\"Domino's Pizza\", 1), (u'El Pollo Loco', 1), (u'Fiesta Burrito', 1), (u'Five Guys', 1), (u'Five Guys Burgers and Fries', 1), (u'French Fry Heaven', 1), (u'Greek Pita', 1), (u'Hippies Cove', 1), (u'Humble Pie', 1), (u'In & Out Burger', 1), (u'Jack In The Box', 1), (u'Jack in the box', 1), (u'Jack-in-the-Box', 1), (u'Jamba Juice', 1), (u\"Jay's Gyros\", 1), (u\"Jimmy John's Gourmet Sandwiches\", 1), (u'KFC', 1), (u'Los Taquitos', 1), (u'Luck Boy', 1), (u\"Maria's Frybread & Mexican Food\", 1), (u'Noodles & Company', 1), (u'Olympic Gyros', 1), (u'Omega Gyros', 1), (u\"Panda King's Buffet\", 1), (u\"Papa John's\", 1), (u\"Papa John's Pizza\", 1), (u\"Papa Murphy's Pizza\", 1), (u'Pizza Patron', 1), (u'Port of Subs', 1), (u'Queen Greek', 1), (u\"Rally's\", 1), (u\"Rubio's\", 1), (u'Sbarro', 1), (u\"Schlotzsky's Deli\", 1), (u'Silver Mine Subs', 1), (u'Slices Pizza', 1), (u'Smashburger', 1), (u'Sonic Drive-in', 1), (u\"Steak 'n Shake\", 1), (u'Taco Mich', 1), (u'Tacos Al Carbon', 1), (u'The Halal Guys', 1), (u'Tokyo Stop', 1), (u'Whataburger', 1), (u'Wildflower Bread Company', 1), (u'Wingstop', 1), (u\"Yogi's Grill\", 1), (u'ZK Grill', 1)]\n"
     ]
    }
   ],
   "source": [
    "# Most common fast food restaurants\n",
    "print conn.execute('''SELECT nodes_tags.value, COUNT(*) as num\n",
    "FROM nodes_tags \n",
    "    JOIN (SELECT DISTINCT(id) FROM nodes_tags where value ='fast_food') i\n",
    "    ON nodes_tags.id=i.id\n",
    "WHERE nodes_tags.key='name'\n",
    "GROUP BY nodes_tags.value\n",
    "ORDER BY num DESC;''').fetchall()\n"
   ]
  },
  {
   "cell_type": "code",
   "execution_count": 11,
   "metadata": {},
   "outputs": [
    {
     "name": "stdout",
     "output_type": "stream",
     "text": [
      "[(u'swimming_pool', 534), (u'park', 42), (u'playground', 15), (u'sports_centre', 7), (u'picnic_table', 6), (u'fitness_centre', 5), (u'pitch', 4), (u'garden', 3), (u'park_bench', 2), (u'slipway', 2), (u'dog_park', 1), (u'hackerspace', 1), (u'ice_rink', 1), (u'track', 1)]\n"
     ]
    }
   ],
   "source": [
    "# All types of leisure \n",
    "print conn.execute('''SELECT nodes_tags.value, COUNT(*) as num\n",
    "FROM nodes_tags \n",
    "    JOIN (SELECT DISTINCT(id) FROM nodes_tags ) i\n",
    "    ON nodes_tags.id=i.id\n",
    "WHERE nodes_tags.key='leisure'\n",
    "GROUP BY nodes_tags.value\n",
    "ORDER BY num DESC;''').fetchall()"
   ]
  },
  {
   "cell_type": "code",
   "execution_count": 31,
   "metadata": {},
   "outputs": [
    {
     "name": "stdout",
     "output_type": "stream",
     "text": [
      "[(u'pole', 2497), (u'tower', 1261), (u'transformer', 14), (u'generator', 12), (u'switch', 2), (u'sub_station', 1)]\n"
     ]
    }
   ],
   "source": [
    "#Power Related Stuff. \n",
    "print conn.execute('''SELECT nodes_tags.value, COUNT(*) as num\n",
    "FROM nodes_tags \n",
    "    JOIN (SELECT DISTINCT(id) FROM nodes_tags ) i\n",
    "    ON nodes_tags.id=i.id\n",
    "WHERE nodes_tags.key='power'\n",
    "GROUP BY nodes_tags.value\n",
    "ORDER BY num DESC;''').fetchall()"
   ]
  },
  {
   "cell_type": "code",
   "execution_count": 26,
   "metadata": {},
   "outputs": [
    {
     "name": "stdout",
     "output_type": "stream",
     "text": [
      "[(u'yes', 3033), (u'no', 18)]\n"
     ]
    }
   ],
   "source": [
    "#Bike-ways\n",
    "print conn.execute('''SELECT nodes_tags.value, COUNT(*) as num\n",
    "FROM nodes_tags \n",
    "    JOIN (SELECT DISTINCT(id) FROM nodes_tags ) i\n",
    "    ON nodes_tags.id=i.id\n",
    "WHERE nodes_tags.key='bicycle'\n",
    "GROUP BY nodes_tags.value\n",
    "ORDER BY num DESC;''').fetchall()"
   ]
  }
 ],
 "metadata": {
  "kernelspec": {
   "display_name": "Python [conda env:ipykernel_py2]",
   "language": "python",
   "name": "conda-env-ipykernel_py2-py"
  },
  "language_info": {
   "codemirror_mode": {
    "name": "ipython",
    "version": 2
   },
   "file_extension": ".py",
   "mimetype": "text/x-python",
   "name": "python",
   "nbconvert_exporter": "python",
   "pygments_lexer": "ipython2",
   "version": "2.7.13"
  }
 },
 "nbformat": 4,
 "nbformat_minor": 2
}
